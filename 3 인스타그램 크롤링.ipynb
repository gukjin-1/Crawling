{
 "cells": [
  {
   "cell_type": "markdown",
   "id": "3f7a7208",
   "metadata": {},
   "source": [
    "### 인스타그램 해시태그 크롤링\n",
    "- selenium을 이용한 크롤링\n",
    "- 결과에 대한 단어 분석"
   ]
  },
  {
   "cell_type": "code",
   "execution_count": 5,
   "id": "3ea5270b",
   "metadata": {},
   "outputs": [],
   "source": [
    "from selenium.webdriver import Chrome\n",
    "from bs4 import BeautifulSoup as bs\n",
    "import pandas as pd\n",
    "import time\n",
    "from selenium.webdriver.common.by import By"
   ]
  },
  {
   "cell_type": "code",
   "execution_count": null,
   "id": "ddd3cab2",
   "metadata": {},
   "outputs": [],
   "source": []
  },
  {
   "cell_type": "markdown",
   "id": "67073580",
   "metadata": {},
   "source": [
    "1. 인스타그램 로그인"
   ]
  },
  {
   "cell_type": "code",
   "execution_count": 62,
   "id": "8ae36d1e",
   "metadata": {},
   "outputs": [
    {
     "name": "stderr",
     "output_type": "stream",
     "text": [
      "C:\\Users\\l8822\\AppData\\Local\\Temp\\ipykernel_20396\\2273218549.py:1: DeprecationWarning: executable_path has been deprecated, please pass in a Service object\n",
      "  browser = Chrome(\"c:/pydata/chromedriver.exe\")\n"
     ]
    }
   ],
   "source": [
    "browser = Chrome(\"c:/pydata/chromedriver.exe\")\n",
    "url = 'https://www.instagram.com/'\n",
    "browser.get(url)\n",
    "time.sleep(2)"
   ]
  },
  {
   "cell_type": "code",
   "execution_count": 63,
   "id": "18c7581f",
   "metadata": {},
   "outputs": [],
   "source": [
    "userID = '01073716855'\n",
    "userPW = 'dlrnrwls12!'\n",
    "\n",
    "# input_id = browser.find_element(By.XPATH,'//*[@id=\"loginForm\"]/div/div[1]/div/label/input').click()\n",
    "input_id = browser.find_element(By.CSS_SELECTOR,'#loginForm > div > div:nth-child(1) > div > label > input')\n",
    "# input_id.clear()\n",
    "input_id.send_keys(userID)\n",
    "\n",
    "\n",
    "input_id = browser.find_element(By.CSS_SELECTOR,'#loginForm > div > div:nth-child(1) > div > label > input')\n",
    "\n",
    "input_pw = browser.find_element(By.CSS_SELECTOR,'#loginForm > div > div:nth-child(2) > div > label > input')\n",
    "# # input_pw.clear()\n",
    "input_pw.send_keys(userPW)\n",
    "\n",
    "input_pw.submit()\n",
    "time.sleep(1)"
   ]
  },
  {
   "cell_type": "markdown",
   "id": "2a8a8d55",
   "metadata": {},
   "source": [
    "2. 인스타그램에서 검색 url로 접속하기"
   ]
  },
  {
   "cell_type": "code",
   "execution_count": 64,
   "id": "c8e113f9",
   "metadata": {},
   "outputs": [
    {
     "name": "stdout",
     "output_type": "stream",
     "text": [
      "검색어 입력:제주도맛집\n"
     ]
    }
   ],
   "source": [
    "# 인스타 검색 url 확인 및 사용자 키워드 적용\n",
    "keyword = input('검색어 입력:')\n",
    "url = 'https://www.instagram.com/explore/tags/' + keyword\n",
    "\n",
    "browser.get(url)"
   ]
  },
  {
   "cell_type": "markdown",
   "id": "d0fc727a",
   "metadata": {},
   "source": [
    "#### 3. 게시글 가져오기"
   ]
  },
  {
   "cell_type": "code",
   "execution_count": 65,
   "id": "5a194b67",
   "metadata": {},
   "outputs": [],
   "source": [
    "# 첫번째 게시물 클릭\n",
    "# first = browser.find_element_by_css_selector('div._9AhH0').click()\n",
    "# first.click()\n",
    "browser.find_element(By.CSS_SELECTOR,'div._9AhH0').click()\n",
    "time.sleep(3)\n",
    "\n",
    "\n",
    "\n",
    "\n"
   ]
  },
  {
   "cell_type": "code",
   "execution_count": 66,
   "id": "228e84b3",
   "metadata": {},
   "outputs": [
    {
     "data": {
      "text/plain": [
       "'<광고>제주분식\\xa0https://jejubunsig.modoo.at/\\xa0📌제주시 귀아랑길 23 (제주공항 5분거리)안녕하세요 제주분식입니다.* 제주분식은 제주산 식자재를 사용하여 안전하고 건강한 먹거리를 추구하는 제주산 로컬푸드 분식카페입니다.*제주공항에서 차로 5분거리에위치하고있어서 제주를 찾는 여행객분들이나 여행중이신분들에게 빠르고 간편한 식사와 포장메뉴를 제공합니다.* 주요메뉴- 모당모당 = 모당준다라는 제주도 사투리로써 제주분식의 모듬분식을 표현하는 제주분식만의 시그니처메뉴입니다.참고로 모당모당에는 떡볶이,순대,튀김,면사리가 함께들어갑니다.- 돔베라면, 매운돔베라면(돔베란? 갓삶은 돼지고기를 나무도마에 얹어 덩어리째 썰어 먹는 제주도 향토지역음식입니다.)생면과 제주돔베고기의 진한육수가 어우러지는 메뉴입니다.- 돔베김밥제주돔베고기를 듬뿍넣은 제주분식만의 메뉴입니다.\\xa0 - 전복김밥 = 매일아침 신선한 전복을 구매하여 정성껏손질후 볶은후 싱싱한 김밥을 만들고있습니다.- 제주해물라면 = 싱싱한 여러 가지해산물이 들어있고 특별한육수맛이 생면과 어울리는 제주분식만의 메뉴\\xa0\\xa0 * 제주 로컬푸드 분식카페 제주분식.\\xa0064-726-2120주소 - 제주시 귀아랑길 23 (제주공항 5분거리), 영업시간은 10:00부터~16:00까지입니다.\\xa0 * 제주분식을 좋아해주시는분들은 10대~20대 SNS를 좋아하시는 여성분들과 커플분들이며, 그리고 어린이를 동반한가족고객분들 그외 2~3대 대가족여행을 함께다니는 가족분들이 많이 찾고계십니다.\\xa0제주여행중 꼭 들려야하는 분식 맛집 알려줌‼제주 로컬푸드로 만든 분식카페 공항근처 제주분식 ⠀간편하게 먹기 좋은 메뉴들로 여행객들이 꼭 찾는 곳!싱싱한 제주 식자재로 만들어 안전,건강한 먹거리뿐맛있는거 싹 모은 모듬분식 모당모당 과 돔베라면돔베김밥,전복김밥,해물라면도 믿먹템👍🏻👍🏻비줠도 좋아서 커플들, 가족여행객들도 많이 찾는다공⠀⠀📌제주시 귀아랑길 23 (제주공항 5분거리)📌매일 10:00 - 16:00📌064-726-2120#제주맛집 #제주도맛집 #제주시맛집#제주공항근처맛집 #제주공항맛집 #제주맛집추천 #제주도맛집추천 #제주현지인맛집\\xa0#제주가볼만한곳 #제주도먹거리 #제주여행 #제주도여행#애월맛집 #제주연동맛집 #제주해물라면#모당모당 #돔베라면 #제주분식'"
      ]
     },
     "execution_count": 66,
     "metadata": {},
     "output_type": "execute_result"
    }
   ],
   "source": [
    "# 첫번쨰 게시불 정보 가져오기\n",
    "html = browser.page_source\n",
    "soup = bs(html,'html.parser')\n",
    "# print(soup)\n",
    "\n",
    "# content = soup.select('body > div.RnEpo._Yhr4 > div.pbNvD.QZZGH.bW6vo > div > article > div > div.HP0qD > div > div > div.eo2As > div.EtaWk > ul > div > li > div > div > div.C4VMK > div.MOdxS > span')\n",
    "content = soup.find('div',class_='C4VMK').find_all('span')[1].get_text()\n",
    "content"
   ]
  },
  {
   "cell_type": "code",
   "execution_count": 58,
   "id": "1dbe14c3",
   "metadata": {},
   "outputs": [],
   "source": [
    "# 다음 게시물로 이동\n",
    "browser.find_element(By.XPATH,'/html/body/div[6]/div[2]/div/div/button').click()\n",
    "time.sleep(3)"
   ]
  },
  {
   "cell_type": "code",
   "execution_count": null,
   "id": "4981848a",
   "metadata": {},
   "outputs": [],
   "source": [
    "## 두번째 게시물 이동"
   ]
  },
  {
   "cell_type": "code",
   "execution_count": null,
   "id": "5d778e6d",
   "metadata": {},
   "outputs": [],
   "source": [
    "browser.find_element(By.XPATH,'/html/body/div[6]/div[2]/div/div[2]/button').click()\n",
    "time.sleep(2)\n"
   ]
  },
  {
   "cell_type": "code",
   "execution_count": 97,
   "id": "25883f3e",
   "metadata": {},
   "outputs": [],
   "source": [
    "# 화면을 아래쪽으로 스크롤\n",
    "def page_Down():\n",
    "    driver.execute_script('window.scrollTo(0, document.body.scrollHeight)')\n"
   ]
  },
  {
   "cell_type": "code",
   "execution_count": 78,
   "id": "95c3d3c3",
   "metadata": {},
   "outputs": [],
   "source": [
    "\n",
    "def get_first(browser):\n",
    "    browser.find_element(By.CSS_SELECTOR,'div._9AhH0').click()\n",
    "    time.sleep(3)\n",
    "    "
   ]
  },
  {
   "cell_type": "code",
   "execution_count": 79,
   "id": "b1fba721",
   "metadata": {},
   "outputs": [],
   "source": [
    "def get_content(browser):\n",
    "    html = browser.page_source\n",
    "    soup = bs(html,'html.parser')\n",
    "    content = soup.find('div',class_='C4VMK').find_all('span')[1].get_text()\n",
    "    if content.split('#')[0][:4] == '<광고>' or '<협찬>':\n",
    "        pass\n",
    "    else:\n",
    "        print(content.split(\"#\")[0])\n",
    "    "
   ]
  },
  {
   "cell_type": "code",
   "execution_count": 80,
   "id": "25702f94",
   "metadata": {},
   "outputs": [],
   "source": [
    "def get_next(browser,cnt=0):\n",
    "    if cnt == 0:\n",
    "        browser.find_element(By.XPATH,'/html/body/div[6]/div[2]/div/div/button').click()\n",
    "        time.sleep(3)\n",
    "    else:\n",
    "        browser.find_element(By.XPATH,'/html/body/div[6]/div[2]/div/div[2]/button').click()\n",
    "        time.sleep(3)\n",
    "        \n"
   ]
  },
  {
   "cell_type": "code",
   "execution_count": 82,
   "id": "144dabb5",
   "metadata": {},
   "outputs": [
    {
     "name": "stdout",
     "output_type": "stream",
     "text": [
      "검색어 입력:제주도맛집\n"
     ]
    }
   ],
   "source": [
    "keyword = input('검색어 입력:')\n",
    "url = 'https://www.instagram.com/explore/tags/' + keyword\n",
    "browser.get(url)\n",
    "time.sleep(5)\n",
    "\n",
    "get_first(browser)\n",
    "\n",
    "for i in range(5):\n",
    "    get_content(browser)\n",
    "    get_next(browser,i)"
   ]
  },
  {
   "cell_type": "code",
   "execution_count": 84,
   "id": "35123381",
   "metadata": {},
   "outputs": [],
   "source": [
    "from selenium.webdriver import Chrome\n",
    "from selenium.webdriver.common.by import By\n",
    "from bs4 import BeautifulSoup as bs \n",
    "import pandas as pd\n",
    "import re\n",
    "import time\n",
    "import sys\n"
   ]
  },
  {
   "cell_type": "code",
   "execution_count": 92,
   "id": "ba4128c3",
   "metadata": {},
   "outputs": [
    {
     "name": "stdout",
     "output_type": "stream",
     "text": [
      "검색어 입력:제주도맛집\n",
      "스크롤 다운 건수:5\n"
     ]
    },
    {
     "name": "stderr",
     "output_type": "stream",
     "text": [
      "C:\\Users\\l8822\\AppData\\Local\\Temp\\ipykernel_20396\\2563639483.py:4: DeprecationWarning: executable_path has been deprecated, please pass in a Service object\n",
      "  driver=Chrome(\"c:/pydata/chromedriver.exe\")\n"
     ]
    },
    {
     "name": "stdout",
     "output_type": "stream",
     "text": [
      "로그인 되었습니까?[y/n]:y\n"
     ]
    }
   ],
   "source": [
    "keyword = input(\"검색어 입력:\")\n",
    "cntdown = int(input(\"스크롤 다운 건수:\"))\n",
    "\n",
    "driver=Chrome(\"c:/pydata/chromedriver.exe\")\n",
    "\n",
    "# 인스타그램 접속\n",
    "driver.get(\"https://www.instagram.com/\")\n",
    "time.sleep(2)\n",
    "\n",
    "# 인스타그램 로그인\n",
    "userID=\"01073716855\"\n",
    "userPW=\"dlrnrwls12!\"\n",
    "\n",
    "# 아이디 입력\n",
    "input_id=driver.find_element(By.CSS_SELECTOR, \"#loginForm > div > div:nth-child(1) > div > label > input\")\n",
    "input_id.send_keys(userID)\n",
    "\n",
    "# 패스워드 입력\n",
    "input_pw=driver.find_element(By.CSS_SELECTOR, \"#loginForm > div > div:nth-child(2) > div > label > input\")\n",
    "input_pw.send_keys(userPW)\n",
    "\n",
    "# 로그인 정보 전송 / 로그인 버튼을 클릭해도 됨\n",
    "input_pw.submit()  \n",
    "time.sleep(3)\n",
    "\n",
    "state = input(\"로그인 되었습니까?[y/n]:\")\n",
    "if state == \"n\" or state == \"ㅜ\" or state == \"N\":\n",
    "    print(\"작업을 종료합니다.\")\n",
    "    driver.close()\n",
    "    sys.exit()\n"
   ]
  },
  {
   "cell_type": "code",
   "execution_count": 93,
   "id": "711d4aef",
   "metadata": {},
   "outputs": [],
   "source": [
    "# 인스타 검색 url 확인 및 사용자 키워드 적용\n",
    "\n",
    "url=\"https://www.instagram.com/explore/tags/\" + keyword\n",
    "driver.get(url)\n",
    "time.sleep(5)\n",
    "\n",
    "body = driver.find_element(By.TAG_NAME, \"body\")\n"
   ]
  },
  {
   "cell_type": "code",
   "execution_count": 100,
   "id": "a2d4ce07",
   "metadata": {},
   "outputs": [
    {
     "data": {
      "text/plain": [
       "['https://www.instagram.com/p/CbrFRrZIrfl/',\n",
       " 'https://www.instagram.com/p/CbqxeCshE2y/',\n",
       " 'https://www.instagram.com/p/CbqsyZohzAE/',\n",
       " 'https://www.instagram.com/p/CbqxeCvhPGD/',\n",
       " 'https://www.instagram.com/p/CbrF-gPP-U1/',\n",
       " 'https://www.instagram.com/p/CbqsyYOBjKe/',\n",
       " 'https://www.instagram.com/p/Cboikw_DONk/',\n",
       " 'https://www.instagram.com/p/CbrH23KpSuz/',\n",
       " 'https://www.instagram.com/p/CbqTcbehbqW/',\n",
       " 'https://www.instagram.com/p/CbrLs6XpcXZ/',\n",
       " 'https://www.instagram.com/p/CbrLgXTviWb/',\n",
       " 'https://www.instagram.com/p/CbrLfrRhPW_/',\n",
       " 'https://www.instagram.com/p/CbrLmxSJq1c/',\n",
       " 'https://www.instagram.com/p/CbrLOZ6pyMR/',\n",
       " 'https://www.instagram.com/p/CbrLV8DLZ2V/',\n",
       " 'https://www.instagram.com/p/CbrLZMwrh04/',\n",
       " 'https://www.instagram.com/p/CbrLbgvvMdS/',\n",
       " 'https://www.instagram.com/p/CbrLIlbrZgg/',\n",
       " 'https://www.instagram.com/p/CbrLBm2PZ3B/',\n",
       " 'https://www.instagram.com/p/CbrKvBxPB6k/',\n",
       " 'https://www.instagram.com/p/CbrKvXBvb-m/',\n",
       " 'https://www.instagram.com/p/CbrKuY0roQo/',\n",
       " 'https://www.instagram.com/p/CbrKw-4lavI/',\n",
       " 'https://www.instagram.com/p/CbrKwdCFrHI/',\n",
       " 'https://www.instagram.com/p/CbrKv3shjTN/',\n",
       " 'https://www.instagram.com/p/CbrK0OBpGnn/',\n",
       " 'https://www.instagram.com/p/CbrKhhhPQir/',\n",
       " 'https://www.instagram.com/p/CbrKWVkLeOQ/',\n",
       " 'https://www.instagram.com/p/CbrKUM9PXMq/',\n",
       " 'https://www.instagram.com/p/CbrKSrWrtCu/',\n",
       " 'https://www.instagram.com/p/CbrKQFyLxcz/',\n",
       " 'https://www.instagram.com/p/CbrKb6ApT68/',\n",
       " 'https://www.instagram.com/p/CbrKW6aPS5e/',\n",
       " 'https://www.instagram.com/p/CbrFRrZIrfl/',\n",
       " 'https://www.instagram.com/p/CbqxeCshE2y/',\n",
       " 'https://www.instagram.com/p/CbqsyZohzAE/',\n",
       " 'https://www.instagram.com/p/CbqxeCvhPGD/',\n",
       " 'https://www.instagram.com/p/CbrF-gPP-U1/',\n",
       " 'https://www.instagram.com/p/CbqsyYOBjKe/',\n",
       " 'https://www.instagram.com/p/Cboikw_DONk/',\n",
       " 'https://www.instagram.com/p/CbrH23KpSuz/',\n",
       " 'https://www.instagram.com/p/CbqTcbehbqW/',\n",
       " 'https://www.instagram.com/p/CbrLs6XpcXZ/',\n",
       " 'https://www.instagram.com/p/CbrLgXTviWb/',\n",
       " 'https://www.instagram.com/p/CbrLfrRhPW_/',\n",
       " 'https://www.instagram.com/p/CbrLmxSJq1c/',\n",
       " 'https://www.instagram.com/p/CbrLOZ6pyMR/',\n",
       " 'https://www.instagram.com/p/CbrLV8DLZ2V/',\n",
       " 'https://www.instagram.com/p/CbrLZMwrh04/',\n",
       " 'https://www.instagram.com/p/CbrLbgvvMdS/',\n",
       " 'https://www.instagram.com/p/CbrLIlbrZgg/',\n",
       " 'https://www.instagram.com/p/CbrLBm2PZ3B/',\n",
       " 'https://www.instagram.com/p/CbrKvBxPB6k/',\n",
       " 'https://www.instagram.com/p/CbrKvXBvb-m/',\n",
       " 'https://www.instagram.com/p/CbrKuY0roQo/',\n",
       " 'https://www.instagram.com/p/CbrKw-4lavI/',\n",
       " 'https://www.instagram.com/p/CbrKwdCFrHI/',\n",
       " 'https://www.instagram.com/p/CbrKv3shjTN/',\n",
       " 'https://www.instagram.com/p/CbrK0OBpGnn/',\n",
       " 'https://www.instagram.com/p/CbrKhhhPQir/',\n",
       " 'https://www.instagram.com/p/CbrKWVkLeOQ/',\n",
       " 'https://www.instagram.com/p/CbrKUM9PXMq/',\n",
       " 'https://www.instagram.com/p/CbrKSrWrtCu/',\n",
       " 'https://www.instagram.com/p/CbrKQFyLxcz/',\n",
       " 'https://www.instagram.com/p/CbrKb6ApT68/',\n",
       " 'https://www.instagram.com/p/CbrKW6aPS5e/',\n",
       " 'https://www.instagram.com/p/CbrFRrZIrfl/',\n",
       " 'https://www.instagram.com/p/CbqxeCshE2y/',\n",
       " 'https://www.instagram.com/p/CbqsyZohzAE/',\n",
       " 'https://www.instagram.com/p/CbqxeCvhPGD/',\n",
       " 'https://www.instagram.com/p/CbrF-gPP-U1/',\n",
       " 'https://www.instagram.com/p/CbqsyYOBjKe/',\n",
       " 'https://www.instagram.com/p/Cboikw_DONk/',\n",
       " 'https://www.instagram.com/p/CbrH23KpSuz/',\n",
       " 'https://www.instagram.com/p/CbqTcbehbqW/',\n",
       " 'https://www.instagram.com/p/CbrLs6XpcXZ/',\n",
       " 'https://www.instagram.com/p/CbrLgXTviWb/',\n",
       " 'https://www.instagram.com/p/CbrLfrRhPW_/',\n",
       " 'https://www.instagram.com/p/CbrLmxSJq1c/',\n",
       " 'https://www.instagram.com/p/CbrLOZ6pyMR/',\n",
       " 'https://www.instagram.com/p/CbrLV8DLZ2V/',\n",
       " 'https://www.instagram.com/p/CbrLZMwrh04/',\n",
       " 'https://www.instagram.com/p/CbrLbgvvMdS/',\n",
       " 'https://www.instagram.com/p/CbrLIlbrZgg/',\n",
       " 'https://www.instagram.com/p/CbrLBm2PZ3B/',\n",
       " 'https://www.instagram.com/p/CbrKvBxPB6k/',\n",
       " 'https://www.instagram.com/p/CbrKvXBvb-m/',\n",
       " 'https://www.instagram.com/p/CbrKuY0roQo/',\n",
       " 'https://www.instagram.com/p/CbrKw-4lavI/',\n",
       " 'https://www.instagram.com/p/CbrKwdCFrHI/',\n",
       " 'https://www.instagram.com/p/CbrKv3shjTN/',\n",
       " 'https://www.instagram.com/p/CbrK0OBpGnn/',\n",
       " 'https://www.instagram.com/p/CbrKhhhPQir/',\n",
       " 'https://www.instagram.com/p/CbrKWVkLeOQ/',\n",
       " 'https://www.instagram.com/p/CbrKUM9PXMq/',\n",
       " 'https://www.instagram.com/p/CbrKSrWrtCu/',\n",
       " 'https://www.instagram.com/p/CbrKQFyLxcz/',\n",
       " 'https://www.instagram.com/p/CbrKb6ApT68/',\n",
       " 'https://www.instagram.com/p/CbrKW6aPS5e/',\n",
       " 'https://www.instagram.com/p/CbrFRrZIrfl/',\n",
       " 'https://www.instagram.com/p/CbqxeCshE2y/',\n",
       " 'https://www.instagram.com/p/CbqsyZohzAE/',\n",
       " 'https://www.instagram.com/p/CbqxeCvhPGD/',\n",
       " 'https://www.instagram.com/p/CbrF-gPP-U1/',\n",
       " 'https://www.instagram.com/p/CbqsyYOBjKe/',\n",
       " 'https://www.instagram.com/p/Cboikw_DONk/',\n",
       " 'https://www.instagram.com/p/CbrH23KpSuz/',\n",
       " 'https://www.instagram.com/p/CbqTcbehbqW/',\n",
       " 'https://www.instagram.com/p/CbrLs6XpcXZ/',\n",
       " 'https://www.instagram.com/p/CbrLgXTviWb/',\n",
       " 'https://www.instagram.com/p/CbrLfrRhPW_/',\n",
       " 'https://www.instagram.com/p/CbrLmxSJq1c/',\n",
       " 'https://www.instagram.com/p/CbrLOZ6pyMR/',\n",
       " 'https://www.instagram.com/p/CbrLV8DLZ2V/',\n",
       " 'https://www.instagram.com/p/CbrLZMwrh04/',\n",
       " 'https://www.instagram.com/p/CbrLbgvvMdS/',\n",
       " 'https://www.instagram.com/p/CbrLIlbrZgg/',\n",
       " 'https://www.instagram.com/p/CbrLBm2PZ3B/',\n",
       " 'https://www.instagram.com/p/CbrKvBxPB6k/',\n",
       " 'https://www.instagram.com/p/CbrKvXBvb-m/',\n",
       " 'https://www.instagram.com/p/CbrKuY0roQo/',\n",
       " 'https://www.instagram.com/p/CbrKw-4lavI/',\n",
       " 'https://www.instagram.com/p/CbrKwdCFrHI/',\n",
       " 'https://www.instagram.com/p/CbrKv3shjTN/',\n",
       " 'https://www.instagram.com/p/CbrK0OBpGnn/',\n",
       " 'https://www.instagram.com/p/CbrKhhhPQir/',\n",
       " 'https://www.instagram.com/p/CbrKWVkLeOQ/',\n",
       " 'https://www.instagram.com/p/CbrKUM9PXMq/',\n",
       " 'https://www.instagram.com/p/CbrKSrWrtCu/',\n",
       " 'https://www.instagram.com/p/CbrKQFyLxcz/',\n",
       " 'https://www.instagram.com/p/CbrKb6ApT68/',\n",
       " 'https://www.instagram.com/p/CbrKW6aPS5e/',\n",
       " 'https://www.instagram.com/p/CbrFRrZIrfl/',\n",
       " 'https://www.instagram.com/p/CbqxeCshE2y/',\n",
       " 'https://www.instagram.com/p/CbqsyZohzAE/',\n",
       " 'https://www.instagram.com/p/CbqxeCvhPGD/',\n",
       " 'https://www.instagram.com/p/CbrF-gPP-U1/',\n",
       " 'https://www.instagram.com/p/CbqsyYOBjKe/',\n",
       " 'https://www.instagram.com/p/Cboikw_DONk/',\n",
       " 'https://www.instagram.com/p/CbrH23KpSuz/',\n",
       " 'https://www.instagram.com/p/CbqTcbehbqW/',\n",
       " 'https://www.instagram.com/p/CbrLs6XpcXZ/',\n",
       " 'https://www.instagram.com/p/CbrLgXTviWb/',\n",
       " 'https://www.instagram.com/p/CbrLfrRhPW_/',\n",
       " 'https://www.instagram.com/p/CbrLmxSJq1c/',\n",
       " 'https://www.instagram.com/p/CbrLOZ6pyMR/',\n",
       " 'https://www.instagram.com/p/CbrLV8DLZ2V/',\n",
       " 'https://www.instagram.com/p/CbrLZMwrh04/',\n",
       " 'https://www.instagram.com/p/CbrLbgvvMdS/',\n",
       " 'https://www.instagram.com/p/CbrLIlbrZgg/',\n",
       " 'https://www.instagram.com/p/CbrLBm2PZ3B/',\n",
       " 'https://www.instagram.com/p/CbrKvBxPB6k/',\n",
       " 'https://www.instagram.com/p/CbrKvXBvb-m/',\n",
       " 'https://www.instagram.com/p/CbrKuY0roQo/',\n",
       " 'https://www.instagram.com/p/CbrKw-4lavI/',\n",
       " 'https://www.instagram.com/p/CbrKwdCFrHI/',\n",
       " 'https://www.instagram.com/p/CbrKv3shjTN/',\n",
       " 'https://www.instagram.com/p/CbrK0OBpGnn/',\n",
       " 'https://www.instagram.com/p/CbrKhhhPQir/',\n",
       " 'https://www.instagram.com/p/CbrKWVkLeOQ/',\n",
       " 'https://www.instagram.com/p/CbrKUM9PXMq/',\n",
       " 'https://www.instagram.com/p/CbrKSrWrtCu/',\n",
       " 'https://www.instagram.com/p/CbrKQFyLxcz/',\n",
       " 'https://www.instagram.com/p/CbrKb6ApT68/',\n",
       " 'https://www.instagram.com/p/CbrKW6aPS5e/']"
      ]
     },
     "execution_count": 100,
     "metadata": {},
     "output_type": "execute_result"
    }
   ],
   "source": [
    "# 하이퍼 링크 주소 추출\n",
    "link_url = []\n",
    "\n",
    "for down in range(cntdown):\n",
    "    page_Down()\n",
    "#     content = body.find_element_by_class_name('v1Nh3')\n",
    "    contents = body.find_elements(By.CLASS_NAME, 'v1Nh3')\n",
    "    # 게시글 리스트 url 추출\n",
    "    for content in contents:\n",
    "        url = content.find_element(By.TAG_NAME, 'a').get_attribute('href')\n",
    "        link_url.append(url)\n",
    "link_url"
   ]
  },
  {
   "cell_type": "code",
   "execution_count": 91,
   "id": "3353c40f",
   "metadata": {},
   "outputs": [
    {
     "data": {
      "text/plain": [
       "'https://www.instagram.com/p/CbqxeCshE2y/'"
      ]
     },
     "execution_count": 91,
     "metadata": {},
     "output_type": "execute_result"
    }
   ],
   "source": [
    "contents = body.find_elements(By.CLASS_NAME, 'v1Nh3') # content, contents 한개냐 여러개냐\n",
    "contents[0].find_element(By.TAG_NAME, 'a').get_attribute('href')"
   ]
  },
  {
   "cell_type": "code",
   "execution_count": 101,
   "id": "c76caa63",
   "metadata": {},
   "outputs": [
    {
     "name": "stdout",
     "output_type": "stream",
     "text": [
      "https://www.instagram.com/p/CbrFRrZIrfl/\n"
     ]
    }
   ],
   "source": [
    "print(link_url[0])\n"
   ]
  },
  {
   "cell_type": "code",
   "execution_count": 102,
   "id": "217b0512",
   "metadata": {},
   "outputs": [],
   "source": [
    "link_url = list(set(link_url))\n",
    "driver.get(link_url[0])\n",
    "time.sleep(2)"
   ]
  },
  {
   "cell_type": "code",
   "execution_count": null,
   "id": "5a92bd3c",
   "metadata": {},
   "outputs": [],
   "source": [
    "html = browser.page_source\n",
    "soup = bs(html,'html.parser')\n",
    "conttxt = soup.find('div',class_='C4VMK').find_all('span')[1].get_text()"
   ]
  },
  {
   "cell_type": "code",
   "execution_count": 105,
   "id": "12dce136",
   "metadata": {},
   "outputs": [],
   "source": [
    "conttxt = []\n",
    "link_url = list(set(link_url))\n",
    "# for link in link_url:\n",
    "for i in range(5):\n",
    "    driver.get(link_url[i])\n",
    "    time.sleep(2)\n",
    "    \n",
    "    html = driver.page_source\n",
    "    soup = bs(html,'html.parser')\n",
    "    conttxt.append(soup.find('div',class_='C4VMK').find_all('span')[1].get_text())\n",
    "    "
   ]
  },
  {
   "cell_type": "code",
   "execution_count": 112,
   "id": "b5777aef",
   "metadata": {},
   "outputs": [
    {
     "data": {
      "text/plain": [
       "''"
      ]
     },
     "execution_count": 112,
     "metadata": {},
     "output_type": "execute_result"
    }
   ],
   "source": [
    "re.sub('[0-9a-zA-Zㄱ-ㅣ가-힣#?! ]',\"\",conttxt[0])"
   ]
  },
  {
   "cell_type": "code",
   "execution_count": 113,
   "id": "cd621064",
   "metadata": {},
   "outputs": [
    {
     "data": {
      "text/plain": [
       "'제주에서만 먹을 수 있는 리조또#점심메뉴 #점심 #점심스타그램 #점심식사 #점심시간 #점심메뉴추천 #점심밥상 #점심뭐먹지 #점심밥 #저녁메뉴 #저녁 #저녁밥상 #저녁식사 #저녁밥 #저녁메뉴추천 #저녁식단 #저녁스타그램 #저녁뭐먹지 #뭐먹지 #오늘뭐먹지 #메뉴추천 #메뉴 #리조또 #카레 #제주도 #제주 #제주맛집 #제주도여행 #제주도맛집 #양식'"
      ]
     },
     "execution_count": 113,
     "metadata": {},
     "output_type": "execute_result"
    }
   ],
   "source": [
    "re.sub('[^0-9a-zA-Zㄱ-ㅣ가-힣#?! ]',\"\",conttxt[0])"
   ]
  },
  {
   "cell_type": "code",
   "execution_count": 115,
   "id": "a387f49d",
   "metadata": {},
   "outputs": [
    {
     "data": {
      "text/plain": [
       "'soyamii'"
      ]
     },
     "execution_count": 115,
     "metadata": {},
     "output_type": "execute_result"
    }
   ],
   "source": [
    "# 아이디 가져오기\n",
    "soup.find('div',class_=\"C4VMK\").find('a').get_text()"
   ]
  },
  {
   "cell_type": "code",
   "execution_count": 121,
   "id": "cac9c42b",
   "metadata": {},
   "outputs": [
    {
     "data": {
      "text/plain": [
       "'.애월 로드129성게크림파스타흑돼지 멘치카츠흑돼지 치즈돈까스흑돼지 고구마치즈돈까스흑돼지 등심돈까스야끼소바일식볶음우동전화 예약은 받지 않아요~재료소진시 조기마감.#애월맛집#제주맛집#애월맛집추천#제주애월맛집#애월#제주도스타그램#제주현지인맛집#제주도민추천맛집#제주도현지인맛집#제주도카페추천#제주도카페#제주카페#제주시#제주시가볼만한곳#제주도먹방#제주시맛집#제주도맛집#제주도민맛집#애월가볼만한곳#서귀포맛집#서귀포#서귀포여행#협재맛집#협재해수욕장맛집#곽지해수욕장맛집#애월해안도로'"
      ]
     },
     "execution_count": 121,
     "metadata": {},
     "output_type": "execute_result"
    }
   ],
   "source": [
    "# 본문 가져오기\n",
    "soup.find('div',class_=\"MOdxS\").find('span').get_text()"
   ]
  },
  {
   "cell_type": "code",
   "execution_count": 123,
   "id": "3f21f28c",
   "metadata": {},
   "outputs": [
    {
     "data": {
      "text/plain": [
       "'.애월 로드129성게크림파스타흑돼지 멘치카츠흑돼지 치즈돈까스흑돼지 고구마치즈돈까스흑돼지 등심돈까스야끼소바일식볶음우동전화 예약은 받지 않아요~재료소진시 조기마감.'"
      ]
     },
     "execution_count": 123,
     "metadata": {},
     "output_type": "execute_result"
    }
   ],
   "source": [
    "soup.find('div',class_=\"MOdxS\").get_text().split('#')[0]"
   ]
  },
  {
   "cell_type": "code",
   "execution_count": 124,
   "id": "0ce27269",
   "metadata": {},
   "outputs": [
    {
     "name": "stdout",
     "output_type": "stream",
     "text": [
      "#애월맛집\n",
      "#제주맛집\n",
      "#애월맛집추천\n",
      "#제주애월맛집\n",
      "#애월\n",
      "#제주도스타그램\n",
      "#제주현지인맛집\n",
      "#제주도민추천맛집\n",
      "#제주도현지인맛집\n",
      "#제주도카페추천\n",
      "#제주도카페\n",
      "#제주카페\n",
      "#제주시\n",
      "#제주시가볼만한곳\n",
      "#제주도먹방\n",
      "#제주시맛집\n",
      "#제주도맛집\n",
      "#제주도민맛집\n",
      "#애월가볼만한곳\n",
      "#서귀포맛집\n",
      "#서귀포\n",
      "#서귀포여행\n",
      "#협재맛집\n",
      "#협재해수욕장맛집\n",
      "#곽지해수욕장맛집\n",
      "#애월해안도로\n"
     ]
    }
   ],
   "source": [
    "## 해시태그 가져옥\n",
    "tags = soup.find('div',class_=\"MOdxS\").find_all('a')\n",
    "for tag in tags:\n",
    "    if '#' in tag.text:\n",
    "        print(tag.text)"
   ]
  },
  {
   "cell_type": "code",
   "execution_count": null,
   "id": "0fee83b0",
   "metadata": {},
   "outputs": [],
   "source": [
    "# 댓글 가져오기\n",
    "li_soup = soup.find('div',class_='EtaWk').find_all('li',class_='gElp')"
   ]
  },
  {
   "cell_type": "markdown",
   "id": "d9d25cd7",
   "metadata": {},
   "source": [
    "### url을 이용해 인스타 그램 정보 크롤\n",
    "- 아이디, 내용, 해시태그\n",
    "- 잘 되시면 requests 모듈로도 적용해 보셈"
   ]
  },
  {
   "cell_type": "code",
   "execution_count": null,
   "id": "5419232d",
   "metadata": {},
   "outputs": [],
   "source": [
    "conttxt = []\n",
    "link_url = list(set(link_url))\n",
    "# for link in link_url:\n",
    "for i in range(5):\n",
    "    driver.get(link_url[i])\n",
    "    time.sleep(2)\n",
    "    \n",
    "    html = driver.page_source\n",
    "    soup = bs(html,'html.parser')\n",
    "    conttxt.append(soup.find('div',class_='C4VMK').find_all('span')[1].get_text())\n",
    "    "
   ]
  },
  {
   "cell_type": "code",
   "execution_count": null,
   "id": "1560b2ab",
   "metadata": {},
   "outputs": [],
   "source": []
  }
 ],
 "metadata": {
  "kernelspec": {
   "display_name": "Python 3 (ipykernel)",
   "language": "python",
   "name": "python3"
  },
  "language_info": {
   "codemirror_mode": {
    "name": "ipython",
    "version": 3
   },
   "file_extension": ".py",
   "mimetype": "text/x-python",
   "name": "python",
   "nbconvert_exporter": "python",
   "pygments_lexer": "ipython3",
   "version": "3.9.7"
  }
 },
 "nbformat": 4,
 "nbformat_minor": 5
}
