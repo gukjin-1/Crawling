{
 "cells": [
  {
   "cell_type": "markdown",
   "id": "b456fc70",
   "metadata": {},
   "source": [
    "## 셀리니움을 이용한 크롤링\n",
    "- 직장인을 위한 데이터 분석 실무: 51페이지~\n",
    "- requests 진행시 소스를 받아오지 못하는 경우 사용"
   ]
  },
  {
   "cell_type": "markdown",
   "id": "b8e380ec",
   "metadata": {},
   "source": [
    "#### 셀레니움(Selenium)이란?\n",
    "- Selenium은 주로 웹앱을 테스트하는데 사용하는 프레임워크\n",
    "- webdriver라는 API를 통해 운영체제에 설치된 크롬 등의 브라우저를 제어\n",
    "- Selenium 모듈 설치 후 사용\n",
    "- 사용자 브라우저(Chrome, Edge, ..)에 맞는 webdriver를 다운로드 후 사용 가능\n",
    "- 다운로드 사이트에서 본인이 사용하는 브라우저의 버전등을 확인 후 다운로드\n",
    "- 크롬 드라이브: https://chromedriver.chromium.org/downloads"
   ]
  },
  {
   "cell_type": "markdown",
   "id": "0f7fa122",
   "metadata": {},
   "source": [
    "#### 크롬 드라이브 다운\n",
    "1. 본인의 크롬 브라우저 버전을 확인한다\n",
    "2. 다운로드 사이트에서 버전과 동일한 webdriver을 다운받는다\n",
    "3. 다운받은 파일을 c:/pydata에 복붙 ㄱㄱ"
   ]
  },
  {
   "cell_type": "code",
   "execution_count": 2,
   "id": "bd9a7c64",
   "metadata": {},
   "outputs": [
    {
     "name": "stdout",
     "output_type": "stream",
     "text": [
      "Collecting selenium\n",
      "  Downloading selenium-4.1.3-py3-none-any.whl (968 kB)\n",
      "Collecting trio-websocket~=0.9\n",
      "  Downloading trio_websocket-0.9.2-py3-none-any.whl (16 kB)\n",
      "Requirement already satisfied: urllib3[secure,socks]~=1.26 in c:\\programdata\\anaconda3\\envs\\kdig\\lib\\site-packages (from selenium) (1.26.9)\n",
      "Collecting trio~=0.17\n",
      "  Downloading trio-0.20.0-py3-none-any.whl (359 kB)\n",
      "Requirement already satisfied: attrs>=19.2.0 in c:\\programdata\\anaconda3\\envs\\kdig\\lib\\site-packages (from trio~=0.17->selenium) (21.4.0)\n",
      "Collecting outcome\n",
      "  Downloading outcome-1.1.0-py2.py3-none-any.whl (9.7 kB)\n",
      "Requirement already satisfied: cffi>=1.14 in c:\\programdata\\anaconda3\\envs\\kdig\\lib\\site-packages (from trio~=0.17->selenium) (1.15.0)\n",
      "Requirement already satisfied: idna in c:\\programdata\\anaconda3\\envs\\kdig\\lib\\site-packages (from trio~=0.17->selenium) (3.3)\n",
      "Collecting async-generator>=1.9\n",
      "  Downloading async_generator-1.10-py3-none-any.whl (18 kB)\n",
      "Collecting sniffio\n",
      "  Downloading sniffio-1.2.0-py3-none-any.whl (10 kB)\n",
      "Collecting sortedcontainers\n",
      "  Downloading sortedcontainers-2.4.0-py2.py3-none-any.whl (29 kB)\n",
      "Requirement already satisfied: pycparser in c:\\programdata\\anaconda3\\envs\\kdig\\lib\\site-packages (from cffi>=1.14->trio~=0.17->selenium) (2.21)\n",
      "Collecting wsproto>=0.14\n",
      "  Downloading wsproto-1.1.0-py3-none-any.whl (24 kB)\n",
      "Collecting pyOpenSSL>=0.14\n",
      "  Downloading pyOpenSSL-22.0.0-py2.py3-none-any.whl (55 kB)\n",
      "Collecting cryptography>=1.3.4\n",
      "  Downloading cryptography-36.0.2-cp36-abi3-win_amd64.whl (2.2 MB)\n",
      "Requirement already satisfied: certifi in c:\\programdata\\anaconda3\\envs\\kdig\\lib\\site-packages (from urllib3[secure,socks]~=1.26->selenium) (2021.10.8)\n",
      "Collecting PySocks!=1.5.7,<2.0,>=1.5.6\n",
      "  Downloading PySocks-1.7.1-py3-none-any.whl (16 kB)\n",
      "Collecting h11<1,>=0.9.0\n",
      "  Downloading h11-0.13.0-py3-none-any.whl (58 kB)\n",
      "Installing collected packages: sortedcontainers, sniffio, outcome, h11, cryptography, async-generator, wsproto, trio, PySocks, pyOpenSSL, trio-websocket, selenium\n",
      "Successfully installed PySocks-1.7.1 async-generator-1.10 cryptography-36.0.2 h11-0.13.0 outcome-1.1.0 pyOpenSSL-22.0.0 selenium-4.1.3 sniffio-1.2.0 sortedcontainers-2.4.0 trio-0.20.0 trio-websocket-0.9.2 wsproto-1.1.0\n"
     ]
    }
   ],
   "source": [
    "!pip install selenium"
   ]
  },
  {
   "cell_type": "code",
   "execution_count": 24,
   "id": "9aba9f6c",
   "metadata": {},
   "outputs": [],
   "source": [
    "from selenium import webdriver\n",
    "from bs4 import BeautifulSoup as bs\n",
    "import time\n",
    "import pandas as pd"
   ]
  },
  {
   "cell_type": "code",
   "execution_count": 18,
   "id": "31cbc25c",
   "metadata": {},
   "outputs": [
    {
     "name": "stderr",
     "output_type": "stream",
     "text": [
      "C:\\Users\\l8822\\AppData\\Local\\Temp\\ipykernel_2052\\158506434.py:1: DeprecationWarning: executable_path has been deprecated, please pass in a Service object\n",
      "  driver = webdriver.Chrome('c:/pydata/chromedriver.exe')\n"
     ]
    },
    {
     "data": {
      "text/plain": [
       "'\\n국내 여행지 추천 여수 오동도 가는법 동백열차, 자전거 비교\\n'"
      ]
     },
     "execution_count": 18,
     "metadata": {},
     "output_type": "execute_result"
    }
   ],
   "source": [
    "driver = webdriver.Chrome('c:/pydata/chromedriver.exe')\n",
    "url = 'https://section.blog.naver.com/Search/Post.naver?pageNo=1&rangeType=ALL&orderBy=sim&keyword=%EA%B5%AD%EB%82%B4%20%EC%97%AC%ED%96%89%EC%A7%80'\n",
    "\n",
    "driver.get(url)\n",
    "time.sleep(2)  ## 시간차 안주면 한번씩 에러남\n",
    "\n",
    "html = driver.page_source\n",
    "soup = bs(html,'html.parser')\n",
    "\n",
    "post_soup = soup.find_all('div', class_=\"list_search_post\")\n",
    "post_soup[0].find('strong',class_='title_post').get_text()"
   ]
  },
  {
   "cell_type": "code",
   "execution_count": 21,
   "id": "b8b14a8f",
   "metadata": {},
   "outputs": [
    {
     "name": "stdout",
     "output_type": "stream",
     "text": [
      "\n",
      "국내 여행지 추천 여수 오동도 가는법 동백열차, 자전거 비교\n",
      "\n",
      "https://blog.naver.com/wkwmd81/222674036269\n"
     ]
    }
   ],
   "source": [
    "post_soup = soup.find_all('div', class_=\"list_search_post\")\n",
    "print(post_soup[0].find('strong',class_='title_post').get_text())\n",
    "print(post_soup[0].find('a')['href'])"
   ]
  },
  {
   "cell_type": "code",
   "execution_count": 30,
   "id": "e2221eaf",
   "metadata": {},
   "outputs": [
    {
     "data": {
      "text/html": [
       "<div>\n",
       "<style scoped>\n",
       "    .dataframe tbody tr th:only-of-type {\n",
       "        vertical-align: middle;\n",
       "    }\n",
       "\n",
       "    .dataframe tbody tr th {\n",
       "        vertical-align: top;\n",
       "    }\n",
       "\n",
       "    .dataframe thead th {\n",
       "        text-align: right;\n",
       "    }\n",
       "</style>\n",
       "<table border=\"1\" class=\"dataframe\">\n",
       "  <thead>\n",
       "    <tr style=\"text-align: right;\">\n",
       "      <th></th>\n",
       "      <th>제목</th>\n",
       "      <th>주소</th>\n",
       "    </tr>\n",
       "  </thead>\n",
       "  <tbody>\n",
       "    <tr>\n",
       "      <th>0</th>\n",
       "      <td>국내 여행지 추천 여수 오동도 가는법 동백열차, 자전거 비교</td>\n",
       "      <td>https://blog.naver.com/wkwmd81/222674036269</td>\n",
       "    </tr>\n",
       "    <tr>\n",
       "      <th>1</th>\n",
       "      <td>국내 여행지 추천 여수 오동도 볼거리 여수동백꽃</td>\n",
       "      <td>https://blog.naver.com/hloveh01/222661399374</td>\n",
       "    </tr>\n",
       "    <tr>\n",
       "      <th>2</th>\n",
       "      <td>2월 국내 여행지 추천 강원도 정동진 해변 일출 여행 해수욕장 우리나라 해안</td>\n",
       "      <td>https://blog.naver.com/tcacyc/222651575998</td>\n",
       "    </tr>\n",
       "    <tr>\n",
       "      <th>3</th>\n",
       "      <td>서울근교 당일치기 여행 태안 파도리 해수욕장 조용한 국내 여행지</td>\n",
       "      <td>https://blog.naver.com/mixsun/222448734146</td>\n",
       "    </tr>\n",
       "    <tr>\n",
       "      <th>4</th>\n",
       "      <td>국내여행지 여수 오동도 동백열차 타고 동백섬까지~go</td>\n",
       "      <td>https://blog.naver.com/juco9075/222649938588</td>\n",
       "    </tr>\n",
       "    <tr>\n",
       "      <th>5</th>\n",
       "      <td>국내 여행지 추천 아이와 경상도 가볼만한곳 합천 영상테마파크</td>\n",
       "      <td>https://blog.naver.com/hp0210/222670926660</td>\n",
       "    </tr>\n",
       "    <tr>\n",
       "      <th>6</th>\n",
       "      <td>국내 여행지 추천 속초 영랑호 호수 위를 걷는 영랑호수윗길</td>\n",
       "      <td>https://blog.naver.com/ontheroad_gh/222651725242</td>\n",
       "    </tr>\n",
       "  </tbody>\n",
       "</table>\n",
       "</div>"
      ],
      "text/plain": [
       "                                           제목  \\\n",
       "0           국내 여행지 추천 여수 오동도 가는법 동백열차, 자전거 비교   \n",
       "1                  국내 여행지 추천 여수 오동도 볼거리 여수동백꽃   \n",
       "2  2월 국내 여행지 추천 강원도 정동진 해변 일출 여행 해수욕장 우리나라 해안   \n",
       "3         서울근교 당일치기 여행 태안 파도리 해수욕장 조용한 국내 여행지   \n",
       "4               국내여행지 여수 오동도 동백열차 타고 동백섬까지~go   \n",
       "5           국내 여행지 추천 아이와 경상도 가볼만한곳 합천 영상테마파크   \n",
       "6            국내 여행지 추천 속초 영랑호 호수 위를 걷는 영랑호수윗길   \n",
       "\n",
       "                                                 주소  \n",
       "0       https://blog.naver.com/wkwmd81/222674036269  \n",
       "1      https://blog.naver.com/hloveh01/222661399374  \n",
       "2        https://blog.naver.com/tcacyc/222651575998  \n",
       "3        https://blog.naver.com/mixsun/222448734146  \n",
       "4      https://blog.naver.com/juco9075/222649938588  \n",
       "5        https://blog.naver.com/hp0210/222670926660  \n",
       "6  https://blog.naver.com/ontheroad_gh/222651725242  "
      ]
     },
     "execution_count": 30,
     "metadata": {},
     "output_type": "execute_result"
    }
   ],
   "source": [
    "post_soup = soup.find_all('div', class_=\"list_search_post\")\n",
    "post_list = []\n",
    "for post in post_soup:\n",
    "    title = post.find('strong',class_='title_post').get_text().replace('\\n','')\n",
    "    href = post.find('a')['href']\n",
    "    post_list.append({'제목':title,'주소':href})\n",
    "\n",
    "df = pd.DataFrame(post_list)\n",
    "df"
   ]
  },
  {
   "cell_type": "code",
   "execution_count": 34,
   "id": "41bc74b3",
   "metadata": {},
   "outputs": [
    {
     "name": "stdout",
     "output_type": "stream",
     "text": [
      "https://blog.naver.com//PostView.naver?blogId=wkwmd81&logNo=222674036269&redirect=Dlog&widgetTypeCall=true&directAccess=false\n",
      "https://blog.naver.com//PostView.naver?blogId=hloveh01&logNo=222661399374&redirect=Dlog&widgetTypeCall=true&directAccess=false\n",
      "https://blog.naver.com//PostView.naver?blogId=tcacyc&logNo=222651575998&redirect=Dlog&widgetTypeCall=true&directAccess=false\n",
      "https://blog.naver.com//PostView.naver?blogId=mixsun&logNo=222448734146&redirect=Dlog&widgetTypeCall=true&directAccess=false\n",
      "https://blog.naver.com//PostView.naver?blogId=juco9075&logNo=222649938588&redirect=Dlog&widgetTypeCall=true&directAccess=false\n",
      "https://blog.naver.com//PostView.naver?blogId=hp0210&logNo=222670926660&redirect=Dlog&widgetTypeCall=true&directAccess=false\n",
      "https://blog.naver.com//PostView.naver?blogId=ontheroad_gh&logNo=222651725242&redirect=Dlog&widgetTypeCall=true&directAccess=false\n"
     ]
    }
   ],
   "source": [
    "for i in df.index:\n",
    "    driver.get(df.loc[i,'주소'])\n",
    "    time.sleep(2)\n",
    "    html = driver.page_source\n",
    "    soup = bs(html,'html.parser')\n",
    "    print('https://blog.naver.com/'+ soup.find('iframe', id='mainFrame')['src'])\n"
   ]
  },
  {
   "cell_type": "code",
   "execution_count": null,
   "id": "068530ab",
   "metadata": {},
   "outputs": [],
   "source": []
  },
  {
   "cell_type": "code",
   "execution_count": 36,
   "id": "ecb7c4a5",
   "metadata": {},
   "outputs": [
    {
     "data": {
      "text/plain": [
       "'\\n\\n\\n\\n\\n국내 여행지 추천 여수 오동도 가는법 동백열차, 자전거 비교\\n\\n\\n\\n \\n\\n\\n\\n\\n\\n\\n\\n\\n\\n\\n\\n\\n\\n\\n봄에 가면 좋을 국내 여행지 중 한 곳인 여수 오동도에 다녀왔습니다. 저는 2월에 다녀왔는데 지금 시즌에 가시면 동백꽃이 가득 피어 있을 것 같아요. 제가 갔을 때는 오동도 곳곳에 동백꽃이 간혹 몇 송이 피어 있는 나무가 있긴 했거든요. 초록의 나무에 빨간 동백꽃이 포인트로 딱! 있는데 너무 예쁘더라고요. 아무래도 봄에 다시 한번 여수 오동도 가야겠어요\\n\\n\\n\\n \\n\\n\\n\\n\\n\\n\\n\\n\\n\\n\\n\\n\\n\\n\\n오동도는 처음 가봤는데 산책하는 길도 좋고 전망대도 예쁘고 예쁜 포토존들도 많아서 너무 좋았어요. 여수 여행 가신다면 꼭 오동도도 함께 다녀오시길 바라요. 포토 포인트랑 볼거리, 가는 법까지 차분하게 정리해 보겠습니다\\n\\n\\n\\n \\n\\n\\n\\n여수 오동도 가는법\\n\\n\\n\\n\\n\\n\\n\\n\\n\\n\\n\\n\\n\\n\\n\\n\\n\\n\\n\\n\\n\\n \\n\\n\\n\\n오동도는 주차장이 따로 있어서 차로 가기에 어렵지 않은 곳이에요. 저는 케이블카를 탑승해서 갔는데 꼭 케이블카 타지 않으셔도 목적지를 오동도로 정하고 가셔도 된답니다. 저는 케이블카 탑승장에서 내려서 산책길을 따라 오동도로 들어갔습니다. \\n\\n\\n\\n \\n\\n\\n\\n\\n\\n\\n\\n\\n\\n\\n\\n\\n\\n\\n섬이지만 도로로 연결되어 있어서 편하게 도보, 자전거, 동백열차 등을 타고 이동할 수 있어요. 사진에 보이는 도로를 걸어서 가면 10분 정도 걸리고 자전거로도 이동 가능해요. 동백열차도 시간 맞춰서 운행하고 있고요. 저는 걸어가기 멀 것 같은 느낌이 들어서 자전거를 대여했는데 다녀와서 보니 자전거로 안 가고 그냥 걸어서 가는 것 추천해요. 생각보다 안 멀거든요.\\n\\n\\n\\n \\n\\n\\n\\n\\n\\n\\n\\n\\n\\n\\n\\n\\n\\n\\n날씨가 너무 좋았던 날이라 풍경이 너무 예쁘네요. 오동도 들어가는 길에 바다를 배경으로 멋진 사진을 가득 담으실 수 있습니다.\\n\\n\\n\\n \\n\\n\\n\\n\\n\\n\\n\\n\\n\\n\\n\\n\\n\\n\\n오동도에 오신 것을 환영합니다.\\n\\n\\n\\n\\n\\n\\n\\n\\n1. 도보 이용하기!\\n\\n\\n\\n\\n\\n\\n\\n\\n\\n\\n\\n\\n\\n\\n\\n\\n\\n\\n\\n이 길이 바로 도보로 걸어갈 수 있는 길입니다. 사진엔 엄청 멀어 보이는데 생각보다 안 멀어요. 게다가 가는 길에 벽화도 너무 예쁘고 바다 풍경이 예술이라 걷는 것 자체가 관광이라는 느낌이 들었어요. 가볍게 산책하시는 거 추천합니다!\\n\\n\\n\\n \\n\\n\\n\\n2. 동백열차\\n\\n\\n\\n\\n\\n\\n\\n\\n\\n\\n\\n\\n\\n\\n\\n\\n\\n\\n\\n동백열차를 이용하면 보다 빠르게 이동할 수 있어요. 사진에 보이는 귀요미 열차를 타고 칙칙폭폭 들어갈 수 있습니다.\\n\\n\\n\\n \\n\\n\\n\\n\\n\\n\\n\\n\\n\\n\\n\\n\\n\\n\\n동백열차는 운행시간이 정해져 있어요. 요일별로 출발시간도 조금씩 다르고요 점심시간도 있더라고요. 저는 점심시간에 걸려서 그냥 자전거를 빌렸는데 다시 한번 강조하지만 그냥 걸어서 가시는 거 추천합니다! 참고로 동백열차 가격은 성인 1,000원, 학생 500원이었습니다.\\n\\n\\n\\n \\n\\n\\n\\n3. 자전거\\n\\n\\n\\n\\n\\n\\n\\n\\n\\n\\n\\n\\n\\n\\n\\n\\n\\n\\n\\n자전거 도로가 별도로 있어서 자전거 도로를 따라 오동도로 들어갈 수도 있습니다. 입구에 자전거 대여점이 있는데 1시간에 5천 원이었어요. 하지만!!! 혹시 자전거 이용하실 분들은 여수랑이라는 어플 깔고 여수랑 자전거 빌리기는 거 추천해요. 서울의 따릉이처럼 여수의 공용 자전거인데 1일 천 원에 자유롭게 이용 가능하거든요. 제가 자전거 타고 오동도 다녀와본 결과 오동도 전망대랑 구석구석 보다 보면 1시간이 살짝 빠듯하거든요. 자전거 빌리실 분들은 여수랑 잊지 마세요!아~ 그리고 아이용 자전거는 여수랑에 없으니 아이 자전거 빌리실 분들은 자전거 대여점 이용하세요 가격은 똑같이 1시간에 5천 원이었고 2인용 자전거도 있었어요.\\n\\n\\n\\n \\n\\n\\n\\n\\n\\n\\n\\n\\n\\n\\n\\n\\n\\n\\n자전거나 도보를 이용해서 길을 따라 쭉 이동하면 넓은 광장이 보입니다. 거북선도 보이더라고요. 인증 사진 남겨야겠죠?\\n\\n\\n\\n \\n\\n\\n\\n\\n\\n\\n\\n\\n\\n\\n\\n\\n\\n\\n요기서도 찰칵!! 여유롭게 둘러보시려면 대략 1시간 30분 정도 코스를 추천합니다.\\n\\n\\n\\n \\n\\n\\n\\n\\n\\n\\n\\n\\n\\n\\n\\n\\n\\n\\n동백열차는 이 광장에서 타고 내릴 수 있어요. 생각보다 타는 분들이 많이 없으시긴 하더라고요. 봄에는 사람들이 더 많아져셔 동백열차도 대기가 생길 것 같기는 해요\\u200b\\n\\n\\n\\n \\n\\n\\n\\n오동도 한려해상 국립공원\\n\\n\\n\\n\\n\\n\\n\\n\\n\\n\\n\\n\\n\\n\\n\\n\\n\\n\\n\\n산책길 입구에 지도가 자세히 나와 있어요. 길이 좀 복잡해 보이긴 하는데 실제로 가보면 복잡한 거 없이 그냥 길 따라 쭉 산책할 수 있어요. 동네 뒷산 느낌의 언덕길을 올라야 하는데 크게 힘든 건 없었던 것 같아요.  꼭 다녀오면 좋을 추천 스팟은 바람골, 용굴, 해돋이 전망지, 오동도등대, 휴게소 등입니다. 이외에도 갯바위나 분수대도 있는데 분수대는 운영하지 않더라고요.\\n\\n\\n\\n \\n\\n\\n\\n\\n\\n\\n\\n\\n\\n\\n\\n\\n\\n\\n산책길을 따라 올라가다 보니 바닥에 떨어져 있는 동백꽃도 보입니다. 실제로 동백꽃을 본건 처음인 것 같은데 너무 예쁘더라고요 ^^ 아이도 소중하게 두 손에~\\n\\n\\n\\n \\n\\n\\n\\n\\n\\n\\n\\n\\n\\n\\n\\n\\n\\n\\n곳곳에 포토존이 많아요. 요즘엔 국내 여행지 유명한 곳들은 포토존이 필수인가 봅니다. 포토존에서 사진 남기시는 거 추천해요!\\n\\n\\n\\n \\n\\n\\n\\n여수 오동도 바람골\\n\\n\\n\\n\\n\\n\\n\\n\\n\\n\\n\\n\\n\\n\\n\\n\\n\\n\\n\\n\\n\\n \\n\\n\\n\\n오동도에서 가장 유명한 포토존이 바로 이곳입니다. 바람골. 이정표가 있는데 계단 아래로 내려가면 사진 찍는 사람들이 보일 거예요. 바람이 지나는 길이라는 뜻일까요? 암튼 바위 사이로 바다가 보이는데 실루엣샷 담으니 너무 예쁘더라고요 ^^\\n\\n\\n\\n \\n\\n\\n\\n\\n\\n\\n\\n\\n\\n\\n\\n\\n\\n\\n용굴의 전설도 있더라고요. 뭔가 심오한 전설이었다는 ㅋ\\n\\n\\n\\n \\n\\n\\n\\n\\n\\n\\n\\n\\n\\n\\n\\n\\n\\n\\n동백꽃 전망대에도 가보았습니다\\n\\n\\n\\n \\n\\n\\n\\n\\n\\n\\n\\n\\n\\n\\n\\n\\n\\n\\n가슴이 뻥 뚫리는 전망을 보실 수 있어요. 여수가 이렇게 좋은 여행지인지 몰랐어요~ 봄에 가면 더더 좋을 것 같은 국내여행지로 추천해요.\\n\\n\\n\\n \\n\\n\\n\\n\\n\\n\\n\\n\\n\\n\\n\\n\\n\\n\\n오동도 등대는 아쉽게도 지금은 문을 닫았어요. 외부만 사진을 담아보았습니다. 등대 옆쪽으로 동백나무에 동백꽃 핀 거 보이시나요? 요기에 있는 동백은 해를 많이 받아서 그런지 조금 많이 피었더라고요.\\n\\n\\n\\n \\n\\n\\n\\n\\n\\n\\n\\n\\n\\n\\n\\n\\n\\n\\n돌아오는 길에도 포토존이 계속해서 등장하더라고요. 커플들이 삼각대 가지고 와서 사진 남기는데 풋풋하더라는.\\n\\n\\n\\n \\n\\n\\n\\n\\n\\n\\n\\n\\n\\n\\n\\n\\n\\n\\n저는 씽이 와 사진을 담아보았습니다. 사진에 보니 정말 커 보이는데 실제로는 아기예요 아직 ㅋ\\n\\n\\n\\n \\n\\n\\n\\n\\n\\n\\n\\n\\n\\n\\n\\n\\n\\n\\n\\n\\n \\n\\n\\n\\n산책하는 코스도 좋고 포토존도 많아서 좋았던 여수 오동도. 여수 여행 가신다면 꼭 다녀오세요케이블카랑 함께 묶어서 다녀오시면 반나절 코스로도 추천하고요!\\n\\n\\n\\n \\n\\n\\n\\n\\n\\n\\n\\n\\n\\n \\n\\n\\n\\n\\n\\n\\n\\n\\n여수 해상 케이블카 할인 크리스탈 후기 여수 가볼만한곳 강추\\n여수 해상 케이블카 할인 크리스탈 후기 여수 가볼만한곳 강추 환상적인 날씨 덕분에 더 즐거웠던 여수 여...\\nblog.naver.com\\n\\n\\n\\n\\n\\n\\n \\n\\n\\n\\n여수 해상 케이블카 포스팅은 요기 있으니 참고하시고요\\n\\n\\n\\n \\n\\n\\n\\n\\n\\n\\n\\n \\n\\n\\n\\n오동도를 담은 영상도 첨부합니다. 걸어서 가는 길에 영상을 담아보았어요. 맘 같아선 자전거 타면서 영상 담고 싶었는데 소심이라 그것 못했네요 ^^\\n\\n\\n\\n \\n\\n\\n\\n\\n\\n\\n\\n\\n\\n\\n\\n\\n\\n\\n다시 가고 싶은 곳이에요~\\n\\n\\n\\n \\n\\n\\n\\n\\n\\n\\n\\n오동도\\n전라남도 여수시 수정동 산1-11\\n\\n\\n\\n\\n\\n \\n\\n\\n\\n\\n\\n\\n\\n\\n\\n\\n\\n\\n\\n\\n\\u200b\\n\\n\\n\\n '"
      ]
     },
     "execution_count": 36,
     "metadata": {},
     "output_type": "execute_result"
    }
   ],
   "source": [
    "import requests\n",
    "\n",
    "html = requests.get('https://blog.naver.com//PostView.naver?blogId=wkwmd81&logNo=222674036269&redirect=Dlog&widgetTypeCall=true&directAccess=false')\n",
    "soup = bs(html.text,'html.parser')\n",
    "soup.find('div', class_=\"se-main-container\" ).get_text()"
   ]
  },
  {
   "cell_type": "markdown",
   "id": "40be2d4e",
   "metadata": {},
   "source": [
    "#### 브라우저를 이용해 페이지를 제어 할 수있음"
   ]
  },
  {
   "cell_type": "code",
   "execution_count": 39,
   "id": "88ba0b0c",
   "metadata": {},
   "outputs": [
    {
     "name": "stderr",
     "output_type": "stream",
     "text": [
      "C:\\Users\\l8822\\AppData\\Local\\Temp\\ipykernel_2052\\2860934715.py:2: DeprecationWarning: find_element_by_name is deprecated. Please use find_element(by=By.NAME, value=name) instead\n",
      "  elem = driver.find_element_by_name('q')\n"
     ]
    }
   ],
   "source": [
    "driver.get('http://google.com')\n",
    "elem = driver.find_element_by_name('q')\n",
    "time.sleep(2)\n",
    "elem.clear()\n",
    "time.sleep(2)\n",
    "elem.send_keys('국내여행지')\n"
   ]
  },
  {
   "cell_type": "code",
   "execution_count": null,
   "id": "300f3890",
   "metadata": {},
   "outputs": [],
   "source": [
    "driver.find_element_by_xpath"
   ]
  },
  {
   "cell_type": "markdown",
   "id": "837d9c54",
   "metadata": {},
   "source": [
    "### 네이버 로그인"
   ]
  },
  {
   "cell_type": "code",
   "execution_count": 50,
   "id": "eb6c30d9",
   "metadata": {},
   "outputs": [
    {
     "ename": "ModuleNotFoundError",
     "evalue": "No module named 'selenium.webdriver.common.key'",
     "output_type": "error",
     "traceback": [
      "\u001b[1;31m---------------------------------------------------------------------------\u001b[0m",
      "\u001b[1;31mModuleNotFoundError\u001b[0m                       Traceback (most recent call last)",
      "Input \u001b[1;32mIn [50]\u001b[0m, in \u001b[0;36m<cell line: 3>\u001b[1;34m()\u001b[0m\n\u001b[0;32m      1\u001b[0m \u001b[38;5;28;01mfrom\u001b[39;00m \u001b[38;5;21;01mselenium\u001b[39;00m\u001b[38;5;21;01m.\u001b[39;00m\u001b[38;5;21;01mwebdriver\u001b[39;00m \u001b[38;5;28;01mimport\u001b[39;00m Chrome \n\u001b[0;32m      2\u001b[0m \u001b[38;5;28;01mfrom\u001b[39;00m \u001b[38;5;21;01mselenium\u001b[39;00m\u001b[38;5;21;01m.\u001b[39;00m\u001b[38;5;21;01mwebdriver\u001b[39;00m\u001b[38;5;21;01m.\u001b[39;00m\u001b[38;5;21;01mcommon\u001b[39;00m\u001b[38;5;21;01m.\u001b[39;00m\u001b[38;5;21;01mby\u001b[39;00m \u001b[38;5;28;01mimport\u001b[39;00m By\n\u001b[1;32m----> 3\u001b[0m \u001b[38;5;28;01mfrom\u001b[39;00m \u001b[38;5;21;01mselenium\u001b[39;00m\u001b[38;5;21;01m.\u001b[39;00m\u001b[38;5;21;01mwebdriver\u001b[39;00m\u001b[38;5;21;01m.\u001b[39;00m\u001b[38;5;21;01mcommon\u001b[39;00m\u001b[38;5;21;01m.\u001b[39;00m\u001b[38;5;21;01mkey\u001b[39;00m \u001b[38;5;28;01mimport\u001b[39;00m Keys\n\u001b[0;32m      4\u001b[0m \u001b[38;5;28;01mimport\u001b[39;00m \u001b[38;5;21;01mpyperclip\u001b[39;00m\n\u001b[0;32m      5\u001b[0m \u001b[38;5;28;01mimport\u001b[39;00m \u001b[38;5;21;01mtime\u001b[39;00m\n",
      "\u001b[1;31mModuleNotFoundError\u001b[0m: No module named 'selenium.webdriver.common.key'"
     ]
    }
   ],
   "source": [
    "from selenium.webdriver import Chrome \n",
    "from selenium.webdriver.common.by import By\n",
    "from selenium.webdriver.common.key import Keys\n",
    "import pyperclip\n",
    "import time"
   ]
  },
  {
   "cell_type": "code",
   "execution_count": 41,
   "id": "c69c7b85",
   "metadata": {},
   "outputs": [
    {
     "name": "stderr",
     "output_type": "stream",
     "text": [
      "C:\\Users\\l8822\\AppData\\Local\\Temp\\ipykernel_2052\\3284147129.py:2: DeprecationWarning: executable_path has been deprecated, please pass in a Service object\n",
      "  driver = Chrome('c:/pydata/chromedriver.exe')\n"
     ]
    }
   ],
   "source": [
    "# 크롬 드라이브 실행 및 네이버 이동\n",
    "driver = Chrome('c:/pydata/chromedriver.exe')\n",
    "driver.get('http://naver.com')\n"
   ]
  },
  {
   "cell_type": "code",
   "execution_count": null,
   "id": "5db930e1",
   "metadata": {},
   "outputs": [],
   "source": [
    "## 네이버 로그인 화면 이동\n",
    "driver.find_element(By.XPATH,'//*[@id=\"account\"]/a' ).click()"
   ]
  },
  {
   "cell_type": "code",
   "execution_count": 48,
   "id": "2fcd034e",
   "metadata": {},
   "outputs": [],
   "source": [
    "driver.find_element(By.NAME,'id').clear()\n",
    "driver.find_element(By.NAME,'id').send_keys('droplet__')\n",
    "driver.find_element(By.NAME,'pw').clear()\n",
    "driver.find_element(By.NAME,'pw').send_keys('*')\n",
    "driver.find_element(By.XPATH,'//*[@id=\"log.login\"]').click()\n"
   ]
  },
  {
   "cell_type": "code",
   "execution_count": 49,
   "id": "1e6e2882",
   "metadata": {},
   "outputs": [
    {
     "ename": "NameError",
     "evalue": "name 'pyperclip' is not defined",
     "output_type": "error",
     "traceback": [
      "\u001b[1;31m---------------------------------------------------------------------------\u001b[0m",
      "\u001b[1;31mNameError\u001b[0m                                 Traceback (most recent call last)",
      "Input \u001b[1;32mIn [49]\u001b[0m, in \u001b[0;36m<cell line: 5>\u001b[1;34m()\u001b[0m\n\u001b[0;32m      2\u001b[0m \u001b[38;5;28mid\u001b[39m \u001b[38;5;241m=\u001b[39m \u001b[38;5;124m'\u001b[39m\u001b[38;5;124mdroplet__\u001b[39m\u001b[38;5;124m'\u001b[39m\n\u001b[0;32m      3\u001b[0m pw \u001b[38;5;241m=\u001b[39m \u001b[38;5;124m'\u001b[39m\u001b[38;5;124m-dlrnrwls12!\u001b[39m\u001b[38;5;124m'\u001b[39m\n\u001b[1;32m----> 5\u001b[0m \u001b[43mpyperclip\u001b[49m\u001b[38;5;241m.\u001b[39mcopy(\u001b[38;5;28mid\u001b[39m)\n\u001b[0;32m      6\u001b[0m driver\u001b[38;5;241m.\u001b[39mfind_element(By\u001b[38;5;241m.\u001b[39mNAME,\u001b[38;5;28mid\u001b[39m)\u001b[38;5;241m.\u001b[39mclick()\n",
      "\u001b[1;31mNameError\u001b[0m: name 'pyperclip' is not defined"
     ]
    }
   ],
   "source": [
    "## 회피\n",
    "id = 'droplet__'\n",
    "pw = '-dlrnrwls12!'\n",
    "\n",
    "pyperclip.copy(id)\n",
    "driver.find_element(By.NAME,'id').clear()\n",
    "driver.find_element(By.NAME,id).click()\n",
    "ActionChains(driver).key"
   ]
  }
 ],
 "metadata": {
  "kernelspec": {
   "display_name": "Python 3 (ipykernel)",
   "language": "python",
   "name": "python3"
  },
  "language_info": {
   "codemirror_mode": {
    "name": "ipython",
    "version": 3
   },
   "file_extension": ".py",
   "mimetype": "text/x-python",
   "name": "python",
   "nbconvert_exporter": "python",
   "pygments_lexer": "ipython3",
   "version": "3.9.7"
  }
 },
 "nbformat": 4,
 "nbformat_minor": 5
}
