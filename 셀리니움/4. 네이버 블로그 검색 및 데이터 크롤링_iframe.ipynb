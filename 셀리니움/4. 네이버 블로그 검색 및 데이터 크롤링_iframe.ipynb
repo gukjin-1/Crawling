{
 "cells": [
  {
   "cell_type": "markdown",
   "id": "19932f55",
   "metadata": {},
   "source": [
    "## 검색어 입력을 통한 네이버 블로그 정보 크롤링\n",
    "- 검색 정보에 대한 제목/세부내용 크롤링\n",
    "- 크롤링 결과 txt 파일로 저장\n",
    "- 불용어 처리 => 정규식 표현"
   ]
  },
  {
   "cell_type": "code",
   "execution_count": 8,
   "id": "c386546b",
   "metadata": {},
   "outputs": [],
   "source": [
    "from selenium import webdriver\n",
    "from bs4 import BeautifulSoup as bs\n",
    "from urllib.parse import quote\n",
    "import requests\n",
    "import time\n",
    "import pandas as pd"
   ]
  },
  {
   "cell_type": "code",
   "execution_count": 12,
   "id": "e6105027",
   "metadata": {},
   "outputs": [],
   "source": [
    "## url 생성\n",
    "def sch_url(schtext, spage = 1):\n",
    "    url = 'https://section.blog.naver.com/Search/Post.naver?'\n",
    "    url = url + 'pageNo=' + str(spage)\n",
    "    url = url + '&rangeType=ALL&orderBy=sim&keyword=' + quote(schtext)\n",
    "    print(url)\n"
   ]
  },
  {
   "cell_type": "code",
   "execution_count": 13,
   "id": "6474d139",
   "metadata": {},
   "outputs": [
    {
     "name": "stdout",
     "output_type": "stream",
     "text": [
      "검색어 입력: 국내 여행\n",
      "https://section.blog.naver.com/Search/Post.naver?pageNo=1&rangeType=ALL&orderBy=sim&keyword=%EA%B5%AD%EB%82%B4%20%EC%97%AC%ED%96%89\n"
     ]
    }
   ],
   "source": [
    "schtext = input('검색어 입력: ')\n",
    "sch_url(schtext)"
   ]
  },
  {
   "cell_type": "code",
   "execution_count": 23,
   "id": "01baf50e",
   "metadata": {},
   "outputs": [],
   "source": [
    "def sch_url(schtext, spage = 1):\n",
    "    url = 'https://section.blog.naver.com/Search/Post.naver?'\n",
    "    url = url + 'pageNo=' + str(spage)\n",
    "    url = url + '&rangeType=ALL&orderBy=sim&keyword=' + quote(schtext)\n",
    "    return url"
   ]
  },
  {
   "cell_type": "code",
   "execution_count": 27,
   "id": "6ee665e3",
   "metadata": {},
   "outputs": [
    {
     "name": "stdout",
     "output_type": "stream",
     "text": [
      "검색어 입력: 국내 여행\n"
     ]
    }
   ],
   "source": [
    "schtext = input('검색어 입력: ')\n",
    "url = sch_url(schtext)"
   ]
  },
  {
   "cell_type": "code",
   "execution_count": 30,
   "id": "e977589f",
   "metadata": {},
   "outputs": [
    {
     "name": "stderr",
     "output_type": "stream",
     "text": [
      "C:\\Users\\l8822\\AppData\\Local\\Temp\\ipykernel_25528\\893989088.py:1: DeprecationWarning: executable_path has been deprecated, please pass in a Service object\n",
      "  driver = webdriver.Chrome('c:/pydata/chromedriver.exe')\n"
     ]
    },
    {
     "data": {
      "text/plain": [
       "['https://blog.naver.com/tcacyc/222668339859',\n",
       " 'https://blog.naver.com/hloveh01/222661399374',\n",
       " 'https://blog.naver.com/phm8739/222627725928',\n",
       " 'https://blog.naver.com/parangusl_/222535755603',\n",
       " 'https://blog.naver.com/luvxox/222606981911',\n",
       " 'https://blog.naver.com/tiens79/222676500632',\n",
       " 'https://blog.naver.com/hnmh2332/222654045955']"
      ]
     },
     "execution_count": 30,
     "metadata": {},
     "output_type": "execute_result"
    }
   ],
   "source": [
    "driver = webdriver.Chrome('c:/pydata/chromedriver.exe')\n",
    "html = driver.get(url)\n",
    "time.sleep(4)\n",
    "html = driver.page_source\n",
    "soup = bs(html, 'html.parser')\n",
    "a_soup = soup.find_all('a', class_ = 'desc_inner')\n",
    "url_lst = []\n",
    "for a in a_soup:\n",
    "    url_lst.append(a['href'])\n",
    "url_lst"
   ]
  },
  {
   "cell_type": "code",
   "execution_count": null,
   "id": "bc8c779f",
   "metadata": {},
   "outputs": [],
   "source": [
    "for link in url_lst:\n",
    "    driver.get(link)\n",
    "    time.sleep(2)\n",
    "    \n",
    "    html = driver.page_source\n",
    "    soup = bs(html, 'html.parser')\n",
    "    urlNew = 'http://blog.naver.com' + soup.find('iframe', id = 'mainFrame')\n",
    "    \n",
    "    driver.get(link)\n",
    "    time.sleep(2)\n",
    "    html = driver.page_source\n",
    "    soup = bs(html, 'html.parser')\n",
    "    \n",
    "    print(soup.find('div', class_ ='pcol1').text)\n",
    "    print(soup.find('div', class_ ='se-main-container').text)\n",
    "    "
   ]
  },
  {
   "cell_type": "code",
   "execution_count": null,
   "id": "aff3898e",
   "metadata": {},
   "outputs": [],
   "source": [
    "\n",
    "    "
   ]
  },
  {
   "cell_type": "code",
   "execution_count": 31,
   "id": "2f6a380a",
   "metadata": {},
   "outputs": [
    {
     "ename": "TypeError",
     "evalue": "can only concatenate str (not \"Tag\") to str",
     "output_type": "error",
     "traceback": [
      "\u001b[1;31m---------------------------------------------------------------------------\u001b[0m",
      "\u001b[1;31mTypeError\u001b[0m                                 Traceback (most recent call last)",
      "Input \u001b[1;32mIn [31]\u001b[0m, in \u001b[0;36m<cell line: 2>\u001b[1;34m()\u001b[0m\n\u001b[0;32m      6\u001b[0m html \u001b[38;5;241m=\u001b[39m requests\u001b[38;5;241m.\u001b[39mget(link)\n\u001b[0;32m      7\u001b[0m soup \u001b[38;5;241m=\u001b[39m bs(html\u001b[38;5;241m.\u001b[39mtext, \u001b[38;5;124m'\u001b[39m\u001b[38;5;124mhtml.parser\u001b[39m\u001b[38;5;124m'\u001b[39m)\n\u001b[1;32m----> 8\u001b[0m urlNew \u001b[38;5;241m=\u001b[39m \u001b[38;5;124;43m'\u001b[39;49m\u001b[38;5;124;43mhttp://blog.naver.com\u001b[39;49m\u001b[38;5;124;43m'\u001b[39;49m\u001b[43m \u001b[49m\u001b[38;5;241;43m+\u001b[39;49m\u001b[43m \u001b[49m\u001b[43msoup\u001b[49m\u001b[38;5;241;43m.\u001b[39;49m\u001b[43mfind\u001b[49m\u001b[43m(\u001b[49m\u001b[38;5;124;43m'\u001b[39;49m\u001b[38;5;124;43miframe\u001b[39;49m\u001b[38;5;124;43m'\u001b[39;49m\u001b[43m,\u001b[49m\u001b[43m \u001b[49m\u001b[38;5;28;43mid\u001b[39;49m\u001b[43m \u001b[49m\u001b[38;5;241;43m=\u001b[39;49m\u001b[43m \u001b[49m\u001b[38;5;124;43m'\u001b[39;49m\u001b[38;5;124;43mmainFrame\u001b[39;49m\u001b[38;5;124;43m'\u001b[39;49m\u001b[43m)\u001b[49m\n\u001b[0;32m     11\u001b[0m html \u001b[38;5;241m=\u001b[39m requests\u001b[38;5;241m.\u001b[39mget(link)\n\u001b[0;32m     12\u001b[0m soup \u001b[38;5;241m=\u001b[39m bs(html\u001b[38;5;241m.\u001b[39mtext, \u001b[38;5;124m'\u001b[39m\u001b[38;5;124mhtml.parser\u001b[39m\u001b[38;5;124m'\u001b[39m)\n",
      "\u001b[1;31mTypeError\u001b[0m: can only concatenate str (not \"Tag\") to str"
     ]
    }
   ],
   "source": [
    "#드라이버 대신 requests 가능 단 driver로 7개 링크 가져와야함\n",
    "for link in url_lst:\n",
    "#     driver.get(link)  ##드라이버 대신 requests 가능 단 driver로 7개 링크 가져와야함\n",
    "#     time.sleep(2)\n",
    "    \n",
    "    html = requests.get(link)\n",
    "    soup = bs(html.text, 'html.parser')\n",
    "    urlNew = 'http://blog.naver.com' + soup.find('iframe', id = 'mainFrame')\n",
    "    \n",
    "\n",
    "    html = requests.get(link)\n",
    "    soup = bs(html.text, 'html.parser')\n",
    "    \n",
    "    print(soup.find('div', class_ ='pcol1').text)\n",
    "    print(soup.find('div', class_ ='se-main-container').text)\n",
    "    "
   ]
  },
  {
   "cell_type": "code",
   "execution_count": null,
   "id": "8f7e06cf",
   "metadata": {},
   "outputs": [],
   "source": []
  }
 ],
 "metadata": {
  "kernelspec": {
   "display_name": "Python 3 (ipykernel)",
   "language": "python",
   "name": "python3"
  },
  "language_info": {
   "codemirror_mode": {
    "name": "ipython",
    "version": 3
   },
   "file_extension": ".py",
   "mimetype": "text/x-python",
   "name": "python",
   "nbconvert_exporter": "python",
   "pygments_lexer": "ipython3",
   "version": "3.9.7"
  }
 },
 "nbformat": 4,
 "nbformat_minor": 5
}
